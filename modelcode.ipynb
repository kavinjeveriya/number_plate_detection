{
 "cells": [
  {
   "cell_type": "code",
   "execution_count": 1,
   "metadata": {},
   "outputs": [],
   "source": [
    "import tensorflow as tf"
   ]
  },
  {
   "cell_type": "code",
   "execution_count": 2,
   "metadata": {},
   "outputs": [
    {
     "name": "stdout",
     "output_type": "stream",
     "text": [
      "Found 864 images belonging to 36 classes.\n",
      "Found 216 images belonging to 36 classes.\n"
     ]
    }
   ],
   "source": [
    "from tensorflow.keras.preprocessing.image import ImageDataGenerator\n",
    "train_datagen = ImageDataGenerator(rescale=1./255, width_shift_range=0.1, height_shift_range=0.1)\n",
    "train_generator = train_datagen.flow_from_directory(\n",
    "        r\"C:\\Users\\mukul jeveriya\\Desktop\\Summer_task8\\data\\train\",  # this is the target directory\n",
    "        target_size=(28,28),  # all images will be resized to 28x28\n",
    "        batch_size=1,\n",
    "        class_mode='categorical')\n",
    "\n",
    "validation_generator = train_datagen.flow_from_directory(\n",
    "        r'C:\\Users\\mukul jeveriya\\Desktop\\Summer_task8\\data\\val',  # this is the target directory\n",
    "        target_size=(28,28),  # all images will be resized to 28x28        batch_size=1,\n",
    "        class_mode='categorical')"
   ]
  },
  {
   "cell_type": "code",
   "execution_count": 3,
   "metadata": {},
   "outputs": [],
   "source": [
    "from tensorflow.keras.models import Sequential\n",
    "from tensorflow.keras.layers import Dense, Flatten, MaxPooling2D, Dropout, Conv2D\n",
    "from tensorflow.keras import optimizers"
   ]
  },
  {
   "cell_type": "code",
   "execution_count": 4,
   "metadata": {},
   "outputs": [],
   "source": [
    "model = Sequential()\n",
    "model.add(Conv2D(32, (24,24), input_shape=(28, 28, 3), activation='relu', padding='same'))\n",
    "model.add(MaxPooling2D(pool_size=(2, 2)))\n",
    "model.add(Dropout(0.4))\n",
    "model.add(Flatten())\n",
    "model.add(Dense(128, activation='relu'))\n",
    "model.add(Dense(36, activation='softmax'))\n",
    "\n",
    "model.compile(loss='categorical_crossentropy', optimizer=optimizers.Adam(lr=0.00001), metrics=['accuracy'])"
   ]
  },
  {
   "cell_type": "code",
   "execution_count": 5,
   "metadata": {},
   "outputs": [
    {
     "name": "stdout",
     "output_type": "stream",
     "text": [
      "WARNING:tensorflow:From <ipython-input-5-41a5fad564db>:2: Model.fit_generator (from tensorflow.python.keras.engine.training) is deprecated and will be removed in a future version.\n",
      "Instructions for updating:\n",
      "Please use Model.fit, which supports generators.\n",
      "Epoch 1/80\n",
      "862/864 [============================>.] - ETA: 0s - loss: 3.5116 - accuracy: 0.0592WARNING:tensorflow:Your input ran out of data; interrupting training. Make sure that your dataset or generator can generate at least `steps_per_epoch * epochs` batches (in this case, 216 batches). You may need to use the repeat() function when building your dataset.\n",
      "864/864 [==============================] - 25s 29ms/step - loss: 3.5120 - accuracy: 0.0590 - val_loss: 3.3792 - val_accuracy: 0.1620\n",
      "Epoch 2/80\n",
      "864/864 [==============================] - 21s 25ms/step - loss: 3.2033 - accuracy: 0.1736\n",
      "Epoch 3/80\n",
      "864/864 [==============================] - 16s 18ms/step - loss: 2.6558 - accuracy: 0.3380\n",
      "Epoch 4/80\n",
      "864/864 [==============================] - 14s 17ms/step - loss: 2.0841 - accuracy: 0.4780\n",
      "Epoch 5/80\n",
      "864/864 [==============================] - 21s 24ms/step - loss: 1.6999 - accuracy: 0.5671\n",
      "Epoch 6/80\n",
      "864/864 [==============================] - 19s 22ms/step - loss: 1.4265 - accuracy: 0.6111\n",
      "Epoch 7/80\n",
      "864/864 [==============================] - 16s 18ms/step - loss: 1.2289 - accuracy: 0.6539\n",
      "Epoch 8/80\n",
      "864/864 [==============================] - 17s 20ms/step - loss: 1.1029 - accuracy: 0.6829\n",
      "Epoch 9/80\n",
      "864/864 [==============================] - 14s 16ms/step - loss: 0.9890 - accuracy: 0.7199\n",
      "Epoch 10/80\n",
      "864/864 [==============================] - 15s 18ms/step - loss: 0.8860 - accuracy: 0.7535\n",
      "Epoch 11/80\n",
      "864/864 [==============================] - 14s 17ms/step - loss: 0.8013 - accuracy: 0.7569\n",
      "Epoch 12/80\n",
      "864/864 [==============================] - 17s 20ms/step - loss: 0.7185 - accuracy: 0.7836\n",
      "Epoch 13/80\n",
      "864/864 [==============================] - 17s 19ms/step - loss: 0.6867 - accuracy: 0.7963\n",
      "Epoch 14/80\n",
      "864/864 [==============================] - 14s 16ms/step - loss: 0.6634 - accuracy: 0.8021\n",
      "Epoch 15/80\n",
      "864/864 [==============================] - 19s 22ms/step - loss: 0.6203 - accuracy: 0.8090\n",
      "Epoch 16/80\n",
      "864/864 [==============================] - 18s 20ms/step - loss: 0.5810 - accuracy: 0.8438\n",
      "Epoch 17/80\n",
      "864/864 [==============================] - 15s 18ms/step - loss: 0.5262 - accuracy: 0.8472\n",
      "Epoch 18/80\n",
      "864/864 [==============================] - 22s 25ms/step - loss: 0.5000 - accuracy: 0.8495\n",
      "Epoch 19/80\n",
      "864/864 [==============================] - 15s 17ms/step - loss: 0.4452 - accuracy: 0.8704\n",
      "Epoch 20/80\n",
      "864/864 [==============================] - 16s 19ms/step - loss: 0.4332 - accuracy: 0.8588\n",
      "Epoch 21/80\n",
      "864/864 [==============================] - 16s 18ms/step - loss: 0.4252 - accuracy: 0.8588\n",
      "Epoch 22/80\n",
      "864/864 [==============================] - 14s 17ms/step - loss: 0.4096 - accuracy: 0.8796\n",
      "Epoch 23/80\n",
      "864/864 [==============================] - 17s 20ms/step - loss: 0.3306 - accuracy: 0.9213\n",
      "Epoch 24/80\n",
      "864/864 [==============================] - 14s 16ms/step - loss: 0.3310 - accuracy: 0.8970\n",
      "Epoch 25/80\n",
      "864/864 [==============================] - 14s 16ms/step - loss: 0.3021 - accuracy: 0.9120\n",
      "Epoch 26/80\n",
      "864/864 [==============================] - 14s 16ms/step - loss: 0.2926 - accuracy: 0.9155\n",
      "Epoch 27/80\n",
      "864/864 [==============================] - 15s 17ms/step - loss: 0.3072 - accuracy: 0.9120\n",
      "Epoch 28/80\n",
      "864/864 [==============================] - 15s 18ms/step - loss: 0.2858 - accuracy: 0.9144\n",
      "Epoch 29/80\n",
      "864/864 [==============================] - 14s 16ms/step - loss: 0.2503 - accuracy: 0.9225\n",
      "Epoch 30/80\n",
      "864/864 [==============================] - 13s 15ms/step - loss: 0.2310 - accuracy: 0.9306\n",
      "Epoch 31/80\n",
      "864/864 [==============================] - 13s 16ms/step - loss: 0.2610 - accuracy: 0.9155\n",
      "Epoch 32/80\n",
      "864/864 [==============================] - 14s 17ms/step - loss: 0.2479 - accuracy: 0.9190\n",
      "Epoch 33/80\n",
      "864/864 [==============================] - 13s 15ms/step - loss: 0.2118 - accuracy: 0.9387\n",
      "Epoch 34/80\n",
      "864/864 [==============================] - 14s 16ms/step - loss: 0.2149 - accuracy: 0.9421\n",
      "Epoch 35/80\n",
      "864/864 [==============================] - 14s 16ms/step - loss: 0.1903 - accuracy: 0.9456\n",
      "Epoch 36/80\n",
      "864/864 [==============================] - 14s 16ms/step - loss: 0.2299 - accuracy: 0.9282\n",
      "Epoch 37/80\n",
      "864/864 [==============================] - 14s 17ms/step - loss: 0.2180 - accuracy: 0.9282\n",
      "Epoch 38/80\n",
      "864/864 [==============================] - 15s 18ms/step - loss: 0.1550 - accuracy: 0.9583\n",
      "Epoch 39/80\n",
      "864/864 [==============================] - 19s 23ms/step - loss: 0.1931 - accuracy: 0.9398\n",
      "Epoch 40/80\n",
      "864/864 [==============================] - 20s 23ms/step - loss: 0.1868 - accuracy: 0.9433\n",
      "Epoch 41/80\n",
      "864/864 [==============================] - 17s 20ms/step - loss: 0.1552 - accuracy: 0.9537\n",
      "Epoch 42/80\n",
      "864/864 [==============================] - 25s 29ms/step - loss: 0.1537 - accuracy: 0.9491\n",
      "Epoch 43/80\n",
      "864/864 [==============================] - 19s 22ms/step - loss: 0.1380 - accuracy: 0.9630\n",
      "Epoch 44/80\n",
      "864/864 [==============================] - 22s 25ms/step - loss: 0.1334 - accuracy: 0.9630\n",
      "Epoch 45/80\n",
      "864/864 [==============================] - 23s 26ms/step - loss: 0.1543 - accuracy: 0.9514\n",
      "Epoch 46/80\n",
      "864/864 [==============================] - 28s 33ms/step - loss: 0.1495 - accuracy: 0.9606\n",
      "Epoch 47/80\n",
      "864/864 [==============================] - 23s 27ms/step - loss: 0.1141 - accuracy: 0.9676\n",
      "Epoch 48/80\n",
      "864/864 [==============================] - 18s 21ms/step - loss: 0.1254 - accuracy: 0.9630\n",
      "Epoch 49/80\n",
      "864/864 [==============================] - 23s 26ms/step - loss: 0.1187 - accuracy: 0.9630\n",
      "Epoch 50/80\n",
      "864/864 [==============================] - 14s 16ms/step - loss: 0.1312 - accuracy: 0.9653\n",
      "Epoch 51/80\n",
      "864/864 [==============================] - 14s 17ms/step - loss: 0.1110 - accuracy: 0.9676\n",
      "Epoch 52/80\n",
      "864/864 [==============================] - 14s 17ms/step - loss: 0.1241 - accuracy: 0.9641\n",
      "Epoch 53/80\n",
      "864/864 [==============================] - 17s 20ms/step - loss: 0.1065 - accuracy: 0.9688\n",
      "Epoch 54/80\n",
      "864/864 [==============================] - 14s 16ms/step - loss: 0.1371 - accuracy: 0.9618\n",
      "Epoch 55/80\n",
      "864/864 [==============================] - 15s 17ms/step - loss: 0.1028 - accuracy: 0.9664\n",
      "Epoch 56/80\n",
      "864/864 [==============================] - 15s 18ms/step - loss: 0.0995 - accuracy: 0.9676\n",
      "Epoch 57/80\n",
      "864/864 [==============================] - 20s 23ms/step - loss: 0.1100 - accuracy: 0.9641\n",
      "Epoch 58/80\n",
      "864/864 [==============================] - 17s 20ms/step - loss: 0.1071 - accuracy: 0.9711\n",
      "Epoch 59/80\n",
      "864/864 [==============================] - 17s 20ms/step - loss: 0.1099 - accuracy: 0.96640s - loss: 0.1104 - accura\n",
      "Epoch 60/80\n",
      "864/864 [==============================] - 19s 22ms/step - loss: 0.0908 - accuracy: 0.9745\n",
      "Epoch 61/80\n",
      "864/864 [==============================] - 20s 23ms/step - loss: 0.0853 - accuracy: 0.9745\n",
      "Epoch 62/80\n",
      "864/864 [==============================] - 19s 22ms/step - loss: 0.0910 - accuracy: 0.9769\n",
      "Epoch 63/80\n",
      "864/864 [==============================] - 18s 21ms/step - loss: 0.1079 - accuracy: 0.9630\n",
      "Epoch 64/80\n",
      "864/864 [==============================] - 15s 17ms/step - loss: 0.1036 - accuracy: 0.9699\n",
      "Epoch 65/80\n",
      "864/864 [==============================] - 15s 17ms/step - loss: 0.0823 - accuracy: 0.9745\n",
      "Epoch 66/80\n",
      "864/864 [==============================] - 14s 17ms/step - loss: 0.0938 - accuracy: 0.9745\n",
      "Epoch 67/80\n",
      "864/864 [==============================] - 20s 23ms/step - loss: 0.0798 - accuracy: 0.9757\n",
      "Epoch 68/80\n",
      "864/864 [==============================] - 15s 17ms/step - loss: 0.0773 - accuracy: 0.9757\n",
      "Epoch 69/80\n",
      "864/864 [==============================] - 15s 17ms/step - loss: 0.0962 - accuracy: 0.9688\n",
      "Epoch 70/80\n",
      "864/864 [==============================] - 15s 17ms/step - loss: 0.0791 - accuracy: 0.9769\n",
      "Epoch 71/80\n",
      "864/864 [==============================] - 17s 19ms/step - loss: 0.0798 - accuracy: 0.9826\n",
      "Epoch 72/80\n",
      "864/864 [==============================] - 17s 20ms/step - loss: 0.0587 - accuracy: 0.9815\n",
      "Epoch 73/80\n"
     ]
    },
    {
     "name": "stdout",
     "output_type": "stream",
     "text": [
      "864/864 [==============================] - 20s 23ms/step - loss: 0.0817 - accuracy: 0.9757\n",
      "Epoch 74/80\n",
      "864/864 [==============================] - 18s 20ms/step - loss: 0.0760 - accuracy: 0.9780\n",
      "Epoch 75/80\n",
      "864/864 [==============================] - 21s 25ms/step - loss: 0.0706 - accuracy: 0.9803\n",
      "Epoch 76/80\n",
      "864/864 [==============================] - 18s 21ms/step - loss: 0.0798 - accuracy: 0.9769\n",
      "Epoch 77/80\n",
      "864/864 [==============================] - 19s 22ms/step - loss: 0.0593 - accuracy: 0.9861\n",
      "Epoch 78/80\n",
      "864/864 [==============================] - 18s 20ms/step - loss: 0.0846 - accuracy: 0.9734\n",
      "Epoch 79/80\n",
      "864/864 [==============================] - 18s 20ms/step - loss: 0.0680 - accuracy: 0.9815\n",
      "Epoch 80/80\n",
      "864/864 [==============================] - 18s 20ms/step - loss: 0.0763 - accuracy: 0.9769\n"
     ]
    },
    {
     "data": {
      "text/plain": [
       "<tensorflow.python.keras.callbacks.History at 0x1b2398d1b80>"
      ]
     },
     "execution_count": 5,
     "metadata": {},
     "output_type": "execute_result"
    }
   ],
   "source": [
    "batch_size = 1\n",
    "model.fit_generator(\n",
    "      train_generator,\n",
    "      steps_per_epoch = train_generator.samples // batch_size,\n",
    "      validation_data = validation_generator, \n",
    "      validation_steps = validation_generator.samples // batch_size,\n",
    "      epochs = 80)"
   ]
  },
  {
   "cell_type": "code",
   "execution_count": 6,
   "metadata": {},
   "outputs": [],
   "source": [
    "model.save(\"8model.h5\")"
   ]
  },
  {
   "cell_type": "code",
   "execution_count": null,
   "metadata": {},
   "outputs": [],
   "source": []
  }
 ],
 "metadata": {
  "kernelspec": {
   "display_name": "Python 3",
   "language": "python",
   "name": "python3"
  },
  "language_info": {
   "codemirror_mode": {
    "name": "ipython",
    "version": 3
   },
   "file_extension": ".py",
   "mimetype": "text/x-python",
   "name": "python",
   "nbconvert_exporter": "python",
   "pygments_lexer": "ipython3",
   "version": "3.8.3"
  }
 },
 "nbformat": 4,
 "nbformat_minor": 5
}
